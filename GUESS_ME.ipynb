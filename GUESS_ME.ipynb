{
 "cells": [
  {
   "cell_type": "code",
   "execution_count": 1,
   "metadata": {},
   "outputs": [
    {
     "name": "stdout",
     "output_type": "stream",
     "text": [
      "WELCOME TO GUESS ME!\n",
      "I'm thinking of a number between 1 and 100\n",
      "If your guess is more than 10 away from my number, I'll tell you you're COLD\n",
      "If your guess is within 10 of my number, I'll tell you you're WARM\n",
      "If your guess is farther than your most recent guess, I'll say you're getting COLDER\n",
      "If your guess is closer than your most recent guess, I'll say you're getting WARMER\n",
      "LET'S PLAY!\n"
     ]
    }
   ],
   "source": [
    "print(\"WELCOME TO GUESS ME!\")\n",
    "print(\"I'm thinking of a number between 1 and 100\")\n",
    "print(\"If your guess is more than 10 away from my number, I'll tell you you're COLD\")\n",
    "print(\"If your guess is within 10 of my number, I'll tell you you're WARM\")\n",
    "print(\"If your guess is farther than your most recent guess, I'll say you're getting COLDER\")\n",
    "print(\"If your guess is closer than your most recent guess, I'll say you're getting WARMER\")\n",
    "print(\"LET'S PLAY!\")"
   ]
  },
  {
   "cell_type": "code",
   "execution_count": null,
   "metadata": {},
   "outputs": [],
   "source": [
    "import random\n",
    "num=random.randint(1,100)\n",
    "\n",
    "print(num)\n",
    "\n",
    "attempt=[0]\n",
    "\n",
    "while True:\n",
    "    x=int(input(\"Please enter a number:\"))\n",
    "    \n",
    "    if x>100 or x<1:\n",
    "        print(\"out of bound\")\n",
    "        continue\n",
    "    \n",
    "    \n",
    "    \n",
    "    if x==num:\n",
    "        print(f\"You guessed it in {len(attempt)} attempts.\")\n",
    "        break;\n",
    "    \n",
    "    attempt.append(x)\n",
    "    \n",
    "    if attempt[-2]:\n",
    "        if abs(num-attempt[-2])>abs(x-num):\n",
    "            print(\"WARMER!!\")\n",
    "        else:\n",
    "            print(\"COLDER!!\")\n",
    "    else:\n",
    "        if abs(x-num)<=10:\n",
    "            print(\"WARM!!\")\n",
    "        else:\n",
    "            print(\"COLD!\")"
   ]
  },
  {
   "cell_type": "code",
   "execution_count": null,
   "metadata": {},
   "outputs": [],
   "source": []
  }
 ],
 "metadata": {
  "kernelspec": {
   "display_name": "Python 3",
   "language": "python",
   "name": "python3"
  },
  "language_info": {
   "codemirror_mode": {
    "name": "ipython",
    "version": 3
   },
   "file_extension": ".py",
   "mimetype": "text/x-python",
   "name": "python",
   "nbconvert_exporter": "python",
   "pygments_lexer": "ipython3",
   "version": "3.6.5"
  }
 },
 "nbformat": 4,
 "nbformat_minor": 2
}
